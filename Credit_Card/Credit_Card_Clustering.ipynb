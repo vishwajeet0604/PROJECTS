{
 "cells": [
  {
   "cell_type": "markdown",
   "metadata": {},
   "source": [
    "# Importing Libraries"
   ]
  },
  {
   "cell_type": "code",
   "execution_count": 148,
   "metadata": {},
   "outputs": [],
   "source": [
    "import pandas as pd\n",
    "import numpy as np\n",
    "import seaborn as sns\n",
    "import matplotlib.pyplot as plt\n",
    "import os \n",
    "%matplotlib inline"
   ]
  },
  {
   "cell_type": "markdown",
   "metadata": {},
   "source": [
    "# Loading the Dataset"
   ]
  },
  {
   "cell_type": "code",
   "execution_count": 149,
   "metadata": {},
   "outputs": [
    {
     "data": {
      "text/html": [
       "<div>\n",
       "<style scoped>\n",
       "    .dataframe tbody tr th:only-of-type {\n",
       "        vertical-align: middle;\n",
       "    }\n",
       "\n",
       "    .dataframe tbody tr th {\n",
       "        vertical-align: top;\n",
       "    }\n",
       "\n",
       "    .dataframe thead th {\n",
       "        text-align: right;\n",
       "    }\n",
       "</style>\n",
       "<table border=\"1\" class=\"dataframe\">\n",
       "  <thead>\n",
       "    <tr style=\"text-align: right;\">\n",
       "      <th></th>\n",
       "      <th>CLIENTNUM</th>\n",
       "      <th>Education_Level</th>\n",
       "      <th>Card_Category</th>\n",
       "      <th>Months_on_book</th>\n",
       "      <th>Total_Relationship_Count</th>\n",
       "      <th>Months_Inactive_12_mon</th>\n",
       "      <th>Credit_Limit</th>\n",
       "      <th>Total_Revolving_Bal</th>\n",
       "      <th>Avg_Utilization_Ratio</th>\n",
       "      <th>Total_Trans_Amt</th>\n",
       "      <th>Total_Trans_Ct</th>\n",
       "    </tr>\n",
       "  </thead>\n",
       "  <tbody>\n",
       "    <tr>\n",
       "      <th>0</th>\n",
       "      <td>769911858</td>\n",
       "      <td>High School</td>\n",
       "      <td>Blue</td>\n",
       "      <td>34</td>\n",
       "      <td>3</td>\n",
       "      <td>4</td>\n",
       "      <td>3313.0</td>\n",
       "      <td>2517</td>\n",
       "      <td>0.760</td>\n",
       "      <td>1171</td>\n",
       "      <td>20</td>\n",
       "    </tr>\n",
       "    <tr>\n",
       "      <th>1</th>\n",
       "      <td>713061558</td>\n",
       "      <td>Graduate</td>\n",
       "      <td>Blue</td>\n",
       "      <td>36</td>\n",
       "      <td>3</td>\n",
       "      <td>1</td>\n",
       "      <td>4010.0</td>\n",
       "      <td>1247</td>\n",
       "      <td>0.311</td>\n",
       "      <td>1088</td>\n",
       "      <td>24</td>\n",
       "    </tr>\n",
       "    <tr>\n",
       "      <th>2</th>\n",
       "      <td>818906208</td>\n",
       "      <td>High School</td>\n",
       "      <td>Silver</td>\n",
       "      <td>27</td>\n",
       "      <td>2</td>\n",
       "      <td>2</td>\n",
       "      <td>29081.0</td>\n",
       "      <td>1396</td>\n",
       "      <td>0.048</td>\n",
       "      <td>1538</td>\n",
       "      <td>36</td>\n",
       "    </tr>\n",
       "    <tr>\n",
       "      <th>3</th>\n",
       "      <td>710599683</td>\n",
       "      <td>College</td>\n",
       "      <td>Blue</td>\n",
       "      <td>36</td>\n",
       "      <td>3</td>\n",
       "      <td>6</td>\n",
       "      <td>11751.0</td>\n",
       "      <td>0</td>\n",
       "      <td>0.000</td>\n",
       "      <td>1539</td>\n",
       "      <td>17</td>\n",
       "    </tr>\n",
       "    <tr>\n",
       "      <th>4</th>\n",
       "      <td>712396908</td>\n",
       "      <td>Graduate</td>\n",
       "      <td>Blue</td>\n",
       "      <td>48</td>\n",
       "      <td>5</td>\n",
       "      <td>2</td>\n",
       "      <td>2436.0</td>\n",
       "      <td>680</td>\n",
       "      <td>0.279</td>\n",
       "      <td>1570</td>\n",
       "      <td>29</td>\n",
       "    </tr>\n",
       "  </tbody>\n",
       "</table>\n",
       "</div>"
      ],
      "text/plain": [
       "   CLIENTNUM Education_Level Card_Category  Months_on_book  \\\n",
       "0  769911858     High School          Blue              34   \n",
       "1  713061558        Graduate          Blue              36   \n",
       "2  818906208     High School        Silver              27   \n",
       "3  710599683         College          Blue              36   \n",
       "4  712396908        Graduate          Blue              48   \n",
       "\n",
       "   Total_Relationship_Count  Months_Inactive_12_mon  Credit_Limit  \\\n",
       "0                         3                       4        3313.0   \n",
       "1                         3                       1        4010.0   \n",
       "2                         2                       2       29081.0   \n",
       "3                         3                       6       11751.0   \n",
       "4                         5                       2        2436.0   \n",
       "\n",
       "   Total_Revolving_Bal  Avg_Utilization_Ratio  Total_Trans_Amt  Total_Trans_Ct  \n",
       "0                 2517                  0.760             1171              20  \n",
       "1                 1247                  0.311             1088              24  \n",
       "2                 1396                  0.048             1538              36  \n",
       "3                    0                  0.000             1539              17  \n",
       "4                  680                  0.279             1570              29  "
      ]
     },
     "execution_count": 149,
     "metadata": {},
     "output_type": "execute_result"
    }
   ],
   "source": [
    "df =  pd.read_excel('card_customer_data.xlsx')\n",
    "df.head()"
   ]
  },
  {
   "cell_type": "code",
   "execution_count": 150,
   "metadata": {},
   "outputs": [
    {
     "name": "stdout",
     "output_type": "stream",
     "text": [
      "The shape of the dataset is : (3078, 11)\n"
     ]
    }
   ],
   "source": [
    "print('The shape of the dataset is :',df.shape)"
   ]
  },
  {
   "cell_type": "code",
   "execution_count": 151,
   "metadata": {},
   "outputs": [
    {
     "data": {
      "text/plain": [
       "Blue        2866\n",
       "Silver       166\n",
       "Gold          34\n",
       "Platinum      12\n",
       "Name: Card_Category, dtype: int64"
      ]
     },
     "execution_count": 151,
     "metadata": {},
     "output_type": "execute_result"
    }
   ],
   "source": [
    "df['Card_Category'].value_counts()"
   ]
  },
  {
   "cell_type": "code",
   "execution_count": 152,
   "metadata": {},
   "outputs": [
    {
     "name": "stdout",
     "output_type": "stream",
     "text": [
      "<class 'pandas.core.frame.DataFrame'>\n",
      "RangeIndex: 3078 entries, 0 to 3077\n",
      "Data columns (total 11 columns):\n",
      " #   Column                    Non-Null Count  Dtype  \n",
      "---  ------                    --------------  -----  \n",
      " 0   CLIENTNUM                 3078 non-null   int64  \n",
      " 1   Education_Level           3078 non-null   object \n",
      " 2   Card_Category             3078 non-null   object \n",
      " 3   Months_on_book            3078 non-null   int64  \n",
      " 4   Total_Relationship_Count  3078 non-null   int64  \n",
      " 5   Months_Inactive_12_mon    3078 non-null   int64  \n",
      " 6   Credit_Limit              3078 non-null   float64\n",
      " 7   Total_Revolving_Bal       3078 non-null   int64  \n",
      " 8   Avg_Utilization_Ratio     3078 non-null   float64\n",
      " 9   Total_Trans_Amt           3078 non-null   int64  \n",
      " 10  Total_Trans_Ct            3078 non-null   int64  \n",
      "dtypes: float64(2), int64(7), object(2)\n",
      "memory usage: 264.6+ KB\n"
     ]
    }
   ],
   "source": [
    "df.info()"
   ]
  },
  {
   "cell_type": "markdown",
   "metadata": {},
   "source": [
    "# Checking Null values"
   ]
  },
  {
   "cell_type": "code",
   "execution_count": 153,
   "metadata": {},
   "outputs": [
    {
     "data": {
      "text/plain": [
       "CLIENTNUM                   0\n",
       "Education_Level             0\n",
       "Card_Category               0\n",
       "Months_on_book              0\n",
       "Total_Relationship_Count    0\n",
       "Months_Inactive_12_mon      0\n",
       "Credit_Limit                0\n",
       "Total_Revolving_Bal         0\n",
       "Avg_Utilization_Ratio       0\n",
       "Total_Trans_Amt             0\n",
       "Total_Trans_Ct              0\n",
       "dtype: int64"
      ]
     },
     "execution_count": 153,
     "metadata": {},
     "output_type": "execute_result"
    }
   ],
   "source": [
    "df.isnull().sum()"
   ]
  },
  {
   "cell_type": "markdown",
   "metadata": {},
   "source": [
    "- So we dont have missing values in the dataset"
   ]
  },
  {
   "cell_type": "markdown",
   "metadata": {},
   "source": [
    "# Let seperate the Numerical Values and Categorical values"
   ]
  },
  {
   "cell_type": "code",
   "execution_count": 154,
   "metadata": {},
   "outputs": [],
   "source": [
    "num = df.select_dtypes(include = 'number')\n",
    "char = df.select_dtypes(include = 'object')"
   ]
  },
  {
   "cell_type": "code",
   "execution_count": 155,
   "metadata": {},
   "outputs": [
    {
     "name": "stdout",
     "output_type": "stream",
     "text": [
      "The shape of num is (3078, 9)\n",
      "The shape of char (3078, 2)\n"
     ]
    }
   ],
   "source": [
    "print('The shape of num is',num.shape)\n",
    "print('The shape of char',char.shape)"
   ]
  },
  {
   "cell_type": "markdown",
   "metadata": {},
   "source": [
    "### So we have 2 columns of object type.Lets covert it into numerical type"
   ]
  },
  {
   "cell_type": "code",
   "execution_count": 156,
   "metadata": {},
   "outputs": [
    {
     "data": {
      "text/html": [
       "<div>\n",
       "<style scoped>\n",
       "    .dataframe tbody tr th:only-of-type {\n",
       "        vertical-align: middle;\n",
       "    }\n",
       "\n",
       "    .dataframe tbody tr th {\n",
       "        vertical-align: top;\n",
       "    }\n",
       "\n",
       "    .dataframe thead th {\n",
       "        text-align: right;\n",
       "    }\n",
       "</style>\n",
       "<table border=\"1\" class=\"dataframe\">\n",
       "  <thead>\n",
       "    <tr style=\"text-align: right;\">\n",
       "      <th></th>\n",
       "      <th>Education_Level</th>\n",
       "      <th>Card_Category</th>\n",
       "    </tr>\n",
       "  </thead>\n",
       "  <tbody>\n",
       "    <tr>\n",
       "      <th>0</th>\n",
       "      <td>High School</td>\n",
       "      <td>Blue</td>\n",
       "    </tr>\n",
       "    <tr>\n",
       "      <th>1</th>\n",
       "      <td>Graduate</td>\n",
       "      <td>Blue</td>\n",
       "    </tr>\n",
       "    <tr>\n",
       "      <th>2</th>\n",
       "      <td>High School</td>\n",
       "      <td>Silver</td>\n",
       "    </tr>\n",
       "    <tr>\n",
       "      <th>3</th>\n",
       "      <td>College</td>\n",
       "      <td>Blue</td>\n",
       "    </tr>\n",
       "    <tr>\n",
       "      <th>4</th>\n",
       "      <td>Graduate</td>\n",
       "      <td>Blue</td>\n",
       "    </tr>\n",
       "  </tbody>\n",
       "</table>\n",
       "</div>"
      ],
      "text/plain": [
       "  Education_Level Card_Category\n",
       "0     High School          Blue\n",
       "1        Graduate          Blue\n",
       "2     High School        Silver\n",
       "3         College          Blue\n",
       "4        Graduate          Blue"
      ]
     },
     "execution_count": 156,
     "metadata": {},
     "output_type": "execute_result"
    }
   ],
   "source": [
    "char.head()"
   ]
  },
  {
   "cell_type": "code",
   "execution_count": 157,
   "metadata": {},
   "outputs": [],
   "source": [
    "from sklearn.preprocessing import LabelEncoder"
   ]
  },
  {
   "cell_type": "code",
   "execution_count": 158,
   "metadata": {},
   "outputs": [],
   "source": [
    "le = LabelEncoder()"
   ]
  },
  {
   "cell_type": "code",
   "execution_count": 159,
   "metadata": {},
   "outputs": [],
   "source": [
    "char_1 = char.apply(le.fit_transform)"
   ]
  },
  {
   "cell_type": "code",
   "execution_count": 160,
   "metadata": {},
   "outputs": [
    {
     "data": {
      "text/html": [
       "<div>\n",
       "<style scoped>\n",
       "    .dataframe tbody tr th:only-of-type {\n",
       "        vertical-align: middle;\n",
       "    }\n",
       "\n",
       "    .dataframe tbody tr th {\n",
       "        vertical-align: top;\n",
       "    }\n",
       "\n",
       "    .dataframe thead th {\n",
       "        text-align: right;\n",
       "    }\n",
       "</style>\n",
       "<table border=\"1\" class=\"dataframe\">\n",
       "  <thead>\n",
       "    <tr style=\"text-align: right;\">\n",
       "      <th></th>\n",
       "      <th>Education_Level</th>\n",
       "      <th>Card_Category</th>\n",
       "    </tr>\n",
       "  </thead>\n",
       "  <tbody>\n",
       "    <tr>\n",
       "      <th>0</th>\n",
       "      <td>3</td>\n",
       "      <td>0</td>\n",
       "    </tr>\n",
       "    <tr>\n",
       "      <th>1</th>\n",
       "      <td>2</td>\n",
       "      <td>0</td>\n",
       "    </tr>\n",
       "    <tr>\n",
       "      <th>2</th>\n",
       "      <td>3</td>\n",
       "      <td>3</td>\n",
       "    </tr>\n",
       "    <tr>\n",
       "      <th>3</th>\n",
       "      <td>0</td>\n",
       "      <td>0</td>\n",
       "    </tr>\n",
       "    <tr>\n",
       "      <th>4</th>\n",
       "      <td>2</td>\n",
       "      <td>0</td>\n",
       "    </tr>\n",
       "    <tr>\n",
       "      <th>...</th>\n",
       "      <td>...</td>\n",
       "      <td>...</td>\n",
       "    </tr>\n",
       "    <tr>\n",
       "      <th>3073</th>\n",
       "      <td>2</td>\n",
       "      <td>0</td>\n",
       "    </tr>\n",
       "    <tr>\n",
       "      <th>3074</th>\n",
       "      <td>2</td>\n",
       "      <td>0</td>\n",
       "    </tr>\n",
       "    <tr>\n",
       "      <th>3075</th>\n",
       "      <td>0</td>\n",
       "      <td>0</td>\n",
       "    </tr>\n",
       "    <tr>\n",
       "      <th>3076</th>\n",
       "      <td>6</td>\n",
       "      <td>0</td>\n",
       "    </tr>\n",
       "    <tr>\n",
       "      <th>3077</th>\n",
       "      <td>2</td>\n",
       "      <td>0</td>\n",
       "    </tr>\n",
       "  </tbody>\n",
       "</table>\n",
       "<p>3078 rows × 2 columns</p>\n",
       "</div>"
      ],
      "text/plain": [
       "      Education_Level  Card_Category\n",
       "0                   3              0\n",
       "1                   2              0\n",
       "2                   3              3\n",
       "3                   0              0\n",
       "4                   2              0\n",
       "...               ...            ...\n",
       "3073                2              0\n",
       "3074                2              0\n",
       "3075                0              0\n",
       "3076                6              0\n",
       "3077                2              0\n",
       "\n",
       "[3078 rows x 2 columns]"
      ]
     },
     "execution_count": 160,
     "metadata": {},
     "output_type": "execute_result"
    }
   ],
   "source": [
    "char_1"
   ]
  },
  {
   "cell_type": "markdown",
   "metadata": {},
   "source": [
    "# Checking for outliers"
   ]
  },
  {
   "cell_type": "code",
   "execution_count": 161,
   "metadata": {},
   "outputs": [
    {
     "data": {
      "text/html": [
       "<div>\n",
       "<style scoped>\n",
       "    .dataframe tbody tr th:only-of-type {\n",
       "        vertical-align: middle;\n",
       "    }\n",
       "\n",
       "    .dataframe tbody tr th {\n",
       "        vertical-align: top;\n",
       "    }\n",
       "\n",
       "    .dataframe thead th {\n",
       "        text-align: right;\n",
       "    }\n",
       "</style>\n",
       "<table border=\"1\" class=\"dataframe\">\n",
       "  <thead>\n",
       "    <tr style=\"text-align: right;\">\n",
       "      <th></th>\n",
       "      <th>CLIENTNUM</th>\n",
       "      <th>Months_on_book</th>\n",
       "      <th>Total_Relationship_Count</th>\n",
       "      <th>Months_Inactive_12_mon</th>\n",
       "      <th>Credit_Limit</th>\n",
       "      <th>Total_Revolving_Bal</th>\n",
       "      <th>Avg_Utilization_Ratio</th>\n",
       "      <th>Total_Trans_Amt</th>\n",
       "      <th>Total_Trans_Ct</th>\n",
       "    </tr>\n",
       "  </thead>\n",
       "  <tbody>\n",
       "    <tr>\n",
       "      <th>count</th>\n",
       "      <td>3.078000e+03</td>\n",
       "      <td>3078.000000</td>\n",
       "      <td>3078.000000</td>\n",
       "      <td>3078.000000</td>\n",
       "      <td>3078.000000</td>\n",
       "      <td>3078.000000</td>\n",
       "      <td>3078.000000</td>\n",
       "      <td>3078.000000</td>\n",
       "      <td>3078.000000</td>\n",
       "    </tr>\n",
       "    <tr>\n",
       "      <th>mean</th>\n",
       "      <td>7.385876e+08</td>\n",
       "      <td>35.808317</td>\n",
       "      <td>3.748863</td>\n",
       "      <td>2.343405</td>\n",
       "      <td>8644.321670</td>\n",
       "      <td>1157.112411</td>\n",
       "      <td>0.273851</td>\n",
       "      <td>4394.285575</td>\n",
       "      <td>64.541261</td>\n",
       "    </tr>\n",
       "    <tr>\n",
       "      <th>std</th>\n",
       "      <td>3.656861e+07</td>\n",
       "      <td>8.063304</td>\n",
       "      <td>1.555690</td>\n",
       "      <td>0.993973</td>\n",
       "      <td>9162.912233</td>\n",
       "      <td>815.792572</td>\n",
       "      <td>0.277065</td>\n",
       "      <td>3393.536036</td>\n",
       "      <td>23.617003</td>\n",
       "    </tr>\n",
       "    <tr>\n",
       "      <th>min</th>\n",
       "      <td>7.080846e+08</td>\n",
       "      <td>13.000000</td>\n",
       "      <td>1.000000</td>\n",
       "      <td>0.000000</td>\n",
       "      <td>1438.300000</td>\n",
       "      <td>0.000000</td>\n",
       "      <td>0.000000</td>\n",
       "      <td>563.000000</td>\n",
       "      <td>10.000000</td>\n",
       "    </tr>\n",
       "    <tr>\n",
       "      <th>1%</th>\n",
       "      <td>7.083366e+08</td>\n",
       "      <td>15.000000</td>\n",
       "      <td>1.000000</td>\n",
       "      <td>1.000000</td>\n",
       "      <td>1438.300000</td>\n",
       "      <td>0.000000</td>\n",
       "      <td>0.000000</td>\n",
       "      <td>882.090000</td>\n",
       "      <td>19.000000</td>\n",
       "    </tr>\n",
       "    <tr>\n",
       "      <th>50%</th>\n",
       "      <td>7.175999e+08</td>\n",
       "      <td>36.000000</td>\n",
       "      <td>4.000000</td>\n",
       "      <td>2.000000</td>\n",
       "      <td>4511.000000</td>\n",
       "      <td>1279.000000</td>\n",
       "      <td>0.171500</td>\n",
       "      <td>3910.500000</td>\n",
       "      <td>67.000000</td>\n",
       "    </tr>\n",
       "    <tr>\n",
       "      <th>99%</th>\n",
       "      <td>8.239793e+08</td>\n",
       "      <td>55.000000</td>\n",
       "      <td>6.000000</td>\n",
       "      <td>5.000000</td>\n",
       "      <td>34516.000000</td>\n",
       "      <td>2517.000000</td>\n",
       "      <td>0.913230</td>\n",
       "      <td>15695.650000</td>\n",
       "      <td>122.000000</td>\n",
       "    </tr>\n",
       "    <tr>\n",
       "      <th>max</th>\n",
       "      <td>8.282989e+08</td>\n",
       "      <td>56.000000</td>\n",
       "      <td>6.000000</td>\n",
       "      <td>6.000000</td>\n",
       "      <td>34516.000000</td>\n",
       "      <td>2517.000000</td>\n",
       "      <td>0.994000</td>\n",
       "      <td>17634.000000</td>\n",
       "      <td>139.000000</td>\n",
       "    </tr>\n",
       "  </tbody>\n",
       "</table>\n",
       "</div>"
      ],
      "text/plain": [
       "          CLIENTNUM  Months_on_book  Total_Relationship_Count  \\\n",
       "count  3.078000e+03     3078.000000               3078.000000   \n",
       "mean   7.385876e+08       35.808317                  3.748863   \n",
       "std    3.656861e+07        8.063304                  1.555690   \n",
       "min    7.080846e+08       13.000000                  1.000000   \n",
       "1%     7.083366e+08       15.000000                  1.000000   \n",
       "50%    7.175999e+08       36.000000                  4.000000   \n",
       "99%    8.239793e+08       55.000000                  6.000000   \n",
       "max    8.282989e+08       56.000000                  6.000000   \n",
       "\n",
       "       Months_Inactive_12_mon  Credit_Limit  Total_Revolving_Bal  \\\n",
       "count             3078.000000   3078.000000          3078.000000   \n",
       "mean                 2.343405   8644.321670          1157.112411   \n",
       "std                  0.993973   9162.912233           815.792572   \n",
       "min                  0.000000   1438.300000             0.000000   \n",
       "1%                   1.000000   1438.300000             0.000000   \n",
       "50%                  2.000000   4511.000000          1279.000000   \n",
       "99%                  5.000000  34516.000000          2517.000000   \n",
       "max                  6.000000  34516.000000          2517.000000   \n",
       "\n",
       "       Avg_Utilization_Ratio  Total_Trans_Amt  Total_Trans_Ct  \n",
       "count            3078.000000      3078.000000     3078.000000  \n",
       "mean                0.273851      4394.285575       64.541261  \n",
       "std                 0.277065      3393.536036       23.617003  \n",
       "min                 0.000000       563.000000       10.000000  \n",
       "1%                  0.000000       882.090000       19.000000  \n",
       "50%                 0.171500      3910.500000       67.000000  \n",
       "99%                 0.913230     15695.650000      122.000000  \n",
       "max                 0.994000     17634.000000      139.000000  "
      ]
     },
     "execution_count": 161,
     "metadata": {},
     "output_type": "execute_result"
    }
   ],
   "source": [
    "num.describe(percentiles = [0.01,0.99])"
   ]
  },
  {
   "cell_type": "markdown",
   "metadata": {},
   "source": [
    "# Capping and Flooring of Outliers"
   ]
  },
  {
   "cell_type": "code",
   "execution_count": 162,
   "metadata": {},
   "outputs": [],
   "source": [
    "def outlier_cap(x):\n",
    "    x=x.clip(lower = x.quantile(0.01))\n",
    "    x=x.clip(upper = x.quantile(0.99))\n",
    "    return(x)"
   ]
  },
  {
   "cell_type": "code",
   "execution_count": 163,
   "metadata": {},
   "outputs": [],
   "source": [
    "num = num.apply(lambda x: outlier_cap(x))"
   ]
  },
  {
   "cell_type": "code",
   "execution_count": 164,
   "metadata": {},
   "outputs": [
    {
     "data": {
      "text/html": [
       "<div>\n",
       "<style scoped>\n",
       "    .dataframe tbody tr th:only-of-type {\n",
       "        vertical-align: middle;\n",
       "    }\n",
       "\n",
       "    .dataframe tbody tr th {\n",
       "        vertical-align: top;\n",
       "    }\n",
       "\n",
       "    .dataframe thead th {\n",
       "        text-align: right;\n",
       "    }\n",
       "</style>\n",
       "<table border=\"1\" class=\"dataframe\">\n",
       "  <thead>\n",
       "    <tr style=\"text-align: right;\">\n",
       "      <th></th>\n",
       "      <th>CLIENTNUM</th>\n",
       "      <th>Months_on_book</th>\n",
       "      <th>Total_Relationship_Count</th>\n",
       "      <th>Months_Inactive_12_mon</th>\n",
       "      <th>Credit_Limit</th>\n",
       "      <th>Total_Revolving_Bal</th>\n",
       "      <th>Avg_Utilization_Ratio</th>\n",
       "      <th>Total_Trans_Amt</th>\n",
       "      <th>Total_Trans_Ct</th>\n",
       "    </tr>\n",
       "  </thead>\n",
       "  <tbody>\n",
       "    <tr>\n",
       "      <th>count</th>\n",
       "      <td>3.078000e+03</td>\n",
       "      <td>3078.000000</td>\n",
       "      <td>3078.000000</td>\n",
       "      <td>3078.000000</td>\n",
       "      <td>3078.000000</td>\n",
       "      <td>3078.000000</td>\n",
       "      <td>3078.000000</td>\n",
       "      <td>3078.000000</td>\n",
       "      <td>3078.000000</td>\n",
       "    </tr>\n",
       "    <tr>\n",
       "      <th>mean</th>\n",
       "      <td>7.385616e+08</td>\n",
       "      <td>35.815789</td>\n",
       "      <td>3.748863</td>\n",
       "      <td>2.336257</td>\n",
       "      <td>8644.321670</td>\n",
       "      <td>1157.112411</td>\n",
       "      <td>0.273451</td>\n",
       "      <td>4388.499331</td>\n",
       "      <td>64.535737</td>\n",
       "    </tr>\n",
       "    <tr>\n",
       "      <th>std</th>\n",
       "      <td>3.650185e+07</td>\n",
       "      <td>7.996110</td>\n",
       "      <td>1.555690</td>\n",
       "      <td>0.957493</td>\n",
       "      <td>9162.912233</td>\n",
       "      <td>815.792572</td>\n",
       "      <td>0.276100</td>\n",
       "      <td>3366.690843</td>\n",
       "      <td>23.419793</td>\n",
       "    </tr>\n",
       "    <tr>\n",
       "      <th>min</th>\n",
       "      <td>7.083366e+08</td>\n",
       "      <td>15.000000</td>\n",
       "      <td>1.000000</td>\n",
       "      <td>1.000000</td>\n",
       "      <td>1438.300000</td>\n",
       "      <td>0.000000</td>\n",
       "      <td>0.000000</td>\n",
       "      <td>882.090000</td>\n",
       "      <td>19.000000</td>\n",
       "    </tr>\n",
       "    <tr>\n",
       "      <th>1%</th>\n",
       "      <td>7.083374e+08</td>\n",
       "      <td>15.000000</td>\n",
       "      <td>1.000000</td>\n",
       "      <td>1.000000</td>\n",
       "      <td>1438.300000</td>\n",
       "      <td>0.000000</td>\n",
       "      <td>0.000000</td>\n",
       "      <td>885.100700</td>\n",
       "      <td>19.000000</td>\n",
       "    </tr>\n",
       "    <tr>\n",
       "      <th>50%</th>\n",
       "      <td>7.175999e+08</td>\n",
       "      <td>36.000000</td>\n",
       "      <td>4.000000</td>\n",
       "      <td>2.000000</td>\n",
       "      <td>4511.000000</td>\n",
       "      <td>1279.000000</td>\n",
       "      <td>0.171500</td>\n",
       "      <td>3910.500000</td>\n",
       "      <td>67.000000</td>\n",
       "    </tr>\n",
       "    <tr>\n",
       "      <th>99%</th>\n",
       "      <td>8.239398e+08</td>\n",
       "      <td>55.000000</td>\n",
       "      <td>6.000000</td>\n",
       "      <td>5.000000</td>\n",
       "      <td>34516.000000</td>\n",
       "      <td>2517.000000</td>\n",
       "      <td>0.913053</td>\n",
       "      <td>15685.909500</td>\n",
       "      <td>122.000000</td>\n",
       "    </tr>\n",
       "    <tr>\n",
       "      <th>max</th>\n",
       "      <td>8.239793e+08</td>\n",
       "      <td>55.000000</td>\n",
       "      <td>6.000000</td>\n",
       "      <td>5.000000</td>\n",
       "      <td>34516.000000</td>\n",
       "      <td>2517.000000</td>\n",
       "      <td>0.913230</td>\n",
       "      <td>15695.650000</td>\n",
       "      <td>122.000000</td>\n",
       "    </tr>\n",
       "  </tbody>\n",
       "</table>\n",
       "</div>"
      ],
      "text/plain": [
       "          CLIENTNUM  Months_on_book  Total_Relationship_Count  \\\n",
       "count  3.078000e+03     3078.000000               3078.000000   \n",
       "mean   7.385616e+08       35.815789                  3.748863   \n",
       "std    3.650185e+07        7.996110                  1.555690   \n",
       "min    7.083366e+08       15.000000                  1.000000   \n",
       "1%     7.083374e+08       15.000000                  1.000000   \n",
       "50%    7.175999e+08       36.000000                  4.000000   \n",
       "99%    8.239398e+08       55.000000                  6.000000   \n",
       "max    8.239793e+08       55.000000                  6.000000   \n",
       "\n",
       "       Months_Inactive_12_mon  Credit_Limit  Total_Revolving_Bal  \\\n",
       "count             3078.000000   3078.000000          3078.000000   \n",
       "mean                 2.336257   8644.321670          1157.112411   \n",
       "std                  0.957493   9162.912233           815.792572   \n",
       "min                  1.000000   1438.300000             0.000000   \n",
       "1%                   1.000000   1438.300000             0.000000   \n",
       "50%                  2.000000   4511.000000          1279.000000   \n",
       "99%                  5.000000  34516.000000          2517.000000   \n",
       "max                  5.000000  34516.000000          2517.000000   \n",
       "\n",
       "       Avg_Utilization_Ratio  Total_Trans_Amt  Total_Trans_Ct  \n",
       "count            3078.000000      3078.000000     3078.000000  \n",
       "mean                0.273451      4388.499331       64.535737  \n",
       "std                 0.276100      3366.690843       23.419793  \n",
       "min                 0.000000       882.090000       19.000000  \n",
       "1%                  0.000000       885.100700       19.000000  \n",
       "50%                 0.171500      3910.500000       67.000000  \n",
       "99%                 0.913053     15685.909500      122.000000  \n",
       "max                 0.913230     15695.650000      122.000000  "
      ]
     },
     "execution_count": 164,
     "metadata": {},
     "output_type": "execute_result"
    }
   ],
   "source": [
    "num.describe(percentiles = [0.01,0.99])"
   ]
  },
  {
   "cell_type": "code",
   "execution_count": 165,
   "metadata": {},
   "outputs": [],
   "source": [
    "num = num.drop(['CLIENTNUM'],axis = 1)"
   ]
  },
  {
   "cell_type": "markdown",
   "metadata": {},
   "source": [
    "# Building Derived Feature - Avg Spend per Transacation"
   ]
  },
  {
   "cell_type": "code",
   "execution_count": 166,
   "metadata": {},
   "outputs": [],
   "source": [
    "num['avg_spend'] = num['Total_Trans_Amt']/num['Total_Trans_Ct']"
   ]
  },
  {
   "cell_type": "code",
   "execution_count": 167,
   "metadata": {},
   "outputs": [
    {
     "data": {
      "text/html": [
       "<div>\n",
       "<style scoped>\n",
       "    .dataframe tbody tr th:only-of-type {\n",
       "        vertical-align: middle;\n",
       "    }\n",
       "\n",
       "    .dataframe tbody tr th {\n",
       "        vertical-align: top;\n",
       "    }\n",
       "\n",
       "    .dataframe thead th {\n",
       "        text-align: right;\n",
       "    }\n",
       "</style>\n",
       "<table border=\"1\" class=\"dataframe\">\n",
       "  <thead>\n",
       "    <tr style=\"text-align: right;\">\n",
       "      <th></th>\n",
       "      <th>Months_on_book</th>\n",
       "      <th>Total_Relationship_Count</th>\n",
       "      <th>Months_Inactive_12_mon</th>\n",
       "      <th>Credit_Limit</th>\n",
       "      <th>Total_Revolving_Bal</th>\n",
       "      <th>Avg_Utilization_Ratio</th>\n",
       "      <th>Total_Trans_Amt</th>\n",
       "      <th>Total_Trans_Ct</th>\n",
       "      <th>avg_spend</th>\n",
       "    </tr>\n",
       "  </thead>\n",
       "  <tbody>\n",
       "    <tr>\n",
       "      <th>0</th>\n",
       "      <td>34</td>\n",
       "      <td>3</td>\n",
       "      <td>4</td>\n",
       "      <td>3313.0</td>\n",
       "      <td>2517</td>\n",
       "      <td>0.760</td>\n",
       "      <td>1171.0</td>\n",
       "      <td>20</td>\n",
       "      <td>58.550000</td>\n",
       "    </tr>\n",
       "    <tr>\n",
       "      <th>1</th>\n",
       "      <td>36</td>\n",
       "      <td>3</td>\n",
       "      <td>1</td>\n",
       "      <td>4010.0</td>\n",
       "      <td>1247</td>\n",
       "      <td>0.311</td>\n",
       "      <td>1088.0</td>\n",
       "      <td>24</td>\n",
       "      <td>45.333333</td>\n",
       "    </tr>\n",
       "    <tr>\n",
       "      <th>2</th>\n",
       "      <td>27</td>\n",
       "      <td>2</td>\n",
       "      <td>2</td>\n",
       "      <td>29081.0</td>\n",
       "      <td>1396</td>\n",
       "      <td>0.048</td>\n",
       "      <td>1538.0</td>\n",
       "      <td>36</td>\n",
       "      <td>42.722222</td>\n",
       "    </tr>\n",
       "    <tr>\n",
       "      <th>3</th>\n",
       "      <td>36</td>\n",
       "      <td>3</td>\n",
       "      <td>5</td>\n",
       "      <td>11751.0</td>\n",
       "      <td>0</td>\n",
       "      <td>0.000</td>\n",
       "      <td>1539.0</td>\n",
       "      <td>19</td>\n",
       "      <td>81.000000</td>\n",
       "    </tr>\n",
       "    <tr>\n",
       "      <th>4</th>\n",
       "      <td>48</td>\n",
       "      <td>5</td>\n",
       "      <td>2</td>\n",
       "      <td>2436.0</td>\n",
       "      <td>680</td>\n",
       "      <td>0.279</td>\n",
       "      <td>1570.0</td>\n",
       "      <td>29</td>\n",
       "      <td>54.137931</td>\n",
       "    </tr>\n",
       "  </tbody>\n",
       "</table>\n",
       "</div>"
      ],
      "text/plain": [
       "   Months_on_book  Total_Relationship_Count  Months_Inactive_12_mon  \\\n",
       "0              34                         3                       4   \n",
       "1              36                         3                       1   \n",
       "2              27                         2                       2   \n",
       "3              36                         3                       5   \n",
       "4              48                         5                       2   \n",
       "\n",
       "   Credit_Limit  Total_Revolving_Bal  Avg_Utilization_Ratio  Total_Trans_Amt  \\\n",
       "0        3313.0                 2517                  0.760           1171.0   \n",
       "1        4010.0                 1247                  0.311           1088.0   \n",
       "2       29081.0                 1396                  0.048           1538.0   \n",
       "3       11751.0                    0                  0.000           1539.0   \n",
       "4        2436.0                  680                  0.279           1570.0   \n",
       "\n",
       "   Total_Trans_Ct  avg_spend  \n",
       "0              20  58.550000  \n",
       "1              24  45.333333  \n",
       "2              36  42.722222  \n",
       "3              19  81.000000  \n",
       "4              29  54.137931  "
      ]
     },
     "execution_count": 167,
     "metadata": {},
     "output_type": "execute_result"
    }
   ],
   "source": [
    "num.head()"
   ]
  },
  {
   "cell_type": "markdown",
   "metadata": {},
   "source": [
    "# Feature Scaling"
   ]
  },
  {
   "cell_type": "code",
   "execution_count": 168,
   "metadata": {},
   "outputs": [],
   "source": [
    "from sklearn.preprocessing import StandardScaler"
   ]
  },
  {
   "cell_type": "code",
   "execution_count": 169,
   "metadata": {},
   "outputs": [],
   "source": [
    "sc = StandardScaler()\n",
    "num_std = pd.DataFrame(sc.fit_transform(num),index = num.index,columns = num.columns).add_suffix('_std')"
   ]
  },
  {
   "cell_type": "code",
   "execution_count": 170,
   "metadata": {},
   "outputs": [
    {
     "data": {
      "text/html": [
       "<div>\n",
       "<style scoped>\n",
       "    .dataframe tbody tr th:only-of-type {\n",
       "        vertical-align: middle;\n",
       "    }\n",
       "\n",
       "    .dataframe tbody tr th {\n",
       "        vertical-align: top;\n",
       "    }\n",
       "\n",
       "    .dataframe thead th {\n",
       "        text-align: right;\n",
       "    }\n",
       "</style>\n",
       "<table border=\"1\" class=\"dataframe\">\n",
       "  <thead>\n",
       "    <tr style=\"text-align: right;\">\n",
       "      <th></th>\n",
       "      <th>Months_on_book_std</th>\n",
       "      <th>Total_Relationship_Count_std</th>\n",
       "      <th>Months_Inactive_12_mon_std</th>\n",
       "      <th>Credit_Limit_std</th>\n",
       "      <th>Total_Revolving_Bal_std</th>\n",
       "      <th>Avg_Utilization_Ratio_std</th>\n",
       "      <th>Total_Trans_Amt_std</th>\n",
       "      <th>Total_Trans_Ct_std</th>\n",
       "      <th>avg_spend_std</th>\n",
       "    </tr>\n",
       "  </thead>\n",
       "  <tbody>\n",
       "    <tr>\n",
       "      <th>0</th>\n",
       "      <td>-0.227121</td>\n",
       "      <td>-0.481448</td>\n",
       "      <td>1.737885</td>\n",
       "      <td>-0.581932</td>\n",
       "      <td>1.667223</td>\n",
       "      <td>1.762509</td>\n",
       "      <td>-0.955841</td>\n",
       "      <td>-1.901937</td>\n",
       "      <td>-0.157105</td>\n",
       "    </tr>\n",
       "    <tr>\n",
       "      <th>1</th>\n",
       "      <td>0.023041</td>\n",
       "      <td>-0.481448</td>\n",
       "      <td>-1.395805</td>\n",
       "      <td>-0.505852</td>\n",
       "      <td>0.110202</td>\n",
       "      <td>0.136021</td>\n",
       "      <td>-0.980499</td>\n",
       "      <td>-1.731114</td>\n",
       "      <td>-0.657095</td>\n",
       "    </tr>\n",
       "    <tr>\n",
       "      <th>2</th>\n",
       "      <td>-1.102689</td>\n",
       "      <td>-1.124354</td>\n",
       "      <td>-0.351242</td>\n",
       "      <td>2.230732</td>\n",
       "      <td>0.292876</td>\n",
       "      <td>-0.816688</td>\n",
       "      <td>-0.846814</td>\n",
       "      <td>-1.218643</td>\n",
       "      <td>-0.755874</td>\n",
       "    </tr>\n",
       "    <tr>\n",
       "      <th>3</th>\n",
       "      <td>0.023041</td>\n",
       "      <td>-0.481448</td>\n",
       "      <td>2.782448</td>\n",
       "      <td>0.339104</td>\n",
       "      <td>-1.418621</td>\n",
       "      <td>-0.990566</td>\n",
       "      <td>-0.846517</td>\n",
       "      <td>-1.944643</td>\n",
       "      <td>0.692184</td>\n",
       "    </tr>\n",
       "    <tr>\n",
       "      <th>4</th>\n",
       "      <td>1.524015</td>\n",
       "      <td>0.804363</td>\n",
       "      <td>-0.351242</td>\n",
       "      <td>-0.677659</td>\n",
       "      <td>-0.584940</td>\n",
       "      <td>0.020102</td>\n",
       "      <td>-0.837308</td>\n",
       "      <td>-1.517584</td>\n",
       "      <td>-0.324015</td>\n",
       "    </tr>\n",
       "  </tbody>\n",
       "</table>\n",
       "</div>"
      ],
      "text/plain": [
       "   Months_on_book_std  Total_Relationship_Count_std  \\\n",
       "0           -0.227121                     -0.481448   \n",
       "1            0.023041                     -0.481448   \n",
       "2           -1.102689                     -1.124354   \n",
       "3            0.023041                     -0.481448   \n",
       "4            1.524015                      0.804363   \n",
       "\n",
       "   Months_Inactive_12_mon_std  Credit_Limit_std  Total_Revolving_Bal_std  \\\n",
       "0                    1.737885         -0.581932                 1.667223   \n",
       "1                   -1.395805         -0.505852                 0.110202   \n",
       "2                   -0.351242          2.230732                 0.292876   \n",
       "3                    2.782448          0.339104                -1.418621   \n",
       "4                   -0.351242         -0.677659                -0.584940   \n",
       "\n",
       "   Avg_Utilization_Ratio_std  Total_Trans_Amt_std  Total_Trans_Ct_std  \\\n",
       "0                   1.762509            -0.955841           -1.901937   \n",
       "1                   0.136021            -0.980499           -1.731114   \n",
       "2                  -0.816688            -0.846814           -1.218643   \n",
       "3                  -0.990566            -0.846517           -1.944643   \n",
       "4                   0.020102            -0.837308           -1.517584   \n",
       "\n",
       "   avg_spend_std  \n",
       "0      -0.157105  \n",
       "1      -0.657095  \n",
       "2      -0.755874  \n",
       "3       0.692184  \n",
       "4      -0.324015  "
      ]
     },
     "execution_count": 170,
     "metadata": {},
     "output_type": "execute_result"
    }
   ],
   "source": [
    "num_std.head()"
   ]
  },
  {
   "cell_type": "markdown",
   "metadata": {},
   "source": [
    "# Checking the Correlation\n"
   ]
  },
  {
   "cell_type": "code",
   "execution_count": 171,
   "metadata": {},
   "outputs": [
    {
     "data": {
      "text/plain": [
       "<AxesSubplot:>"
      ]
     },
     "execution_count": 171,
     "metadata": {},
     "output_type": "execute_result"
    },
    {
     "data": {
      "image/png": "[encoded data removed]",
      "text/plain": [
       "<Figure size 432x288 with 2 Axes>"
      ]
     },
     "metadata": {
      "needs_background": "light"
     },
     "output_type": "display_data"
    }
   ],
   "source": [
    "sns.heatmap(num_std.corr(),vmin =-1,vmax=1,center=0,cmap = 'coolwarm')"
   ]
  },
  {
   "cell_type": "markdown",
   "metadata": {},
   "source": [
    "# Dropping Corrleated Features"
   ]
  },
  {
   "cell_type": "code",
   "execution_count": 172,
   "metadata": {},
   "outputs": [
    {
     "data": {
      "text/plain": [
       "Index(['Months_on_book_std', 'Total_Relationship_Count_std',\n",
       "       'Months_Inactive_12_mon_std', 'Credit_Limit_std',\n",
       "       'Total_Revolving_Bal_std', 'Avg_Utilization_Ratio_std',\n",
       "       'Total_Trans_Amt_std', 'Total_Trans_Ct_std', 'avg_spend_std'],\n",
       "      dtype='object')"
      ]
     },
     "execution_count": 172,
     "metadata": {},
     "output_type": "execute_result"
    }
   ],
   "source": [
    "num_std.columns"
   ]
  },
  {
   "cell_type": "code",
   "execution_count": 173,
   "metadata": {},
   "outputs": [],
   "source": [
    "num_1  =  num_std.drop(['Credit_Limit_std','Total_Revolving_Bal_std','Total_Trans_Amt_std',\n",
    "                    'Total_Trans_Ct_std','Total_Relationship_Count_std'],axis =1)"
   ]
  },
  {
   "cell_type": "code",
   "execution_count": 174,
   "metadata": {},
   "outputs": [
    {
     "data": {
      "text/html": [
       "<div>\n",
       "<style scoped>\n",
       "    .dataframe tbody tr th:only-of-type {\n",
       "        vertical-align: middle;\n",
       "    }\n",
       "\n",
       "    .dataframe tbody tr th {\n",
       "        vertical-align: top;\n",
       "    }\n",
       "\n",
       "    .dataframe thead th {\n",
       "        text-align: right;\n",
       "    }\n",
       "</style>\n",
       "<table border=\"1\" class=\"dataframe\">\n",
       "  <thead>\n",
       "    <tr style=\"text-align: right;\">\n",
       "      <th></th>\n",
       "      <th>Months_on_book_std</th>\n",
       "      <th>Months_Inactive_12_mon_std</th>\n",
       "      <th>Avg_Utilization_Ratio_std</th>\n",
       "      <th>avg_spend_std</th>\n",
       "    </tr>\n",
       "  </thead>\n",
       "  <tbody>\n",
       "    <tr>\n",
       "      <th>0</th>\n",
       "      <td>-0.227121</td>\n",
       "      <td>1.737885</td>\n",
       "      <td>1.762509</td>\n",
       "      <td>-0.157105</td>\n",
       "    </tr>\n",
       "    <tr>\n",
       "      <th>1</th>\n",
       "      <td>0.023041</td>\n",
       "      <td>-1.395805</td>\n",
       "      <td>0.136021</td>\n",
       "      <td>-0.657095</td>\n",
       "    </tr>\n",
       "    <tr>\n",
       "      <th>2</th>\n",
       "      <td>-1.102689</td>\n",
       "      <td>-0.351242</td>\n",
       "      <td>-0.816688</td>\n",
       "      <td>-0.755874</td>\n",
       "    </tr>\n",
       "    <tr>\n",
       "      <th>3</th>\n",
       "      <td>0.023041</td>\n",
       "      <td>2.782448</td>\n",
       "      <td>-0.990566</td>\n",
       "      <td>0.692184</td>\n",
       "    </tr>\n",
       "    <tr>\n",
       "      <th>4</th>\n",
       "      <td>1.524015</td>\n",
       "      <td>-0.351242</td>\n",
       "      <td>0.020102</td>\n",
       "      <td>-0.324015</td>\n",
       "    </tr>\n",
       "    <tr>\n",
       "      <th>...</th>\n",
       "      <td>...</td>\n",
       "      <td>...</td>\n",
       "      <td>...</td>\n",
       "      <td>...</td>\n",
       "    </tr>\n",
       "    <tr>\n",
       "      <th>3073</th>\n",
       "      <td>0.398285</td>\n",
       "      <td>0.693321</td>\n",
       "      <td>-0.892759</td>\n",
       "      <td>3.628039</td>\n",
       "    </tr>\n",
       "    <tr>\n",
       "      <th>3074</th>\n",
       "      <td>0.523366</td>\n",
       "      <td>0.693321</td>\n",
       "      <td>-0.113929</td>\n",
       "      <td>2.617600</td>\n",
       "    </tr>\n",
       "    <tr>\n",
       "      <th>3075</th>\n",
       "      <td>0.023041</td>\n",
       "      <td>-0.351242</td>\n",
       "      <td>-0.374747</td>\n",
       "      <td>2.814055</td>\n",
       "    </tr>\n",
       "    <tr>\n",
       "      <th>3076</th>\n",
       "      <td>0.023041</td>\n",
       "      <td>0.693321</td>\n",
       "      <td>-0.642809</td>\n",
       "      <td>3.818883</td>\n",
       "    </tr>\n",
       "    <tr>\n",
       "      <th>3077</th>\n",
       "      <td>0.523366</td>\n",
       "      <td>-0.351242</td>\n",
       "      <td>0.683014</td>\n",
       "      <td>2.631873</td>\n",
       "    </tr>\n",
       "  </tbody>\n",
       "</table>\n",
       "<p>3078 rows × 4 columns</p>\n",
       "</div>"
      ],
      "text/plain": [
       "      Months_on_book_std  Months_Inactive_12_mon_std  \\\n",
       "0              -0.227121                    1.737885   \n",
       "1               0.023041                   -1.395805   \n",
       "2              -1.102689                   -0.351242   \n",
       "3               0.023041                    2.782448   \n",
       "4               1.524015                   -0.351242   \n",
       "...                  ...                         ...   \n",
       "3073            0.398285                    0.693321   \n",
       "3074            0.523366                    0.693321   \n",
       "3075            0.023041                   -0.351242   \n",
       "3076            0.023041                    0.693321   \n",
       "3077            0.523366                   -0.351242   \n",
       "\n",
       "      Avg_Utilization_Ratio_std  avg_spend_std  \n",
       "0                      1.762509      -0.157105  \n",
       "1                      0.136021      -0.657095  \n",
       "2                     -0.816688      -0.755874  \n",
       "3                     -0.990566       0.692184  \n",
       "4                      0.020102      -0.324015  \n",
       "...                         ...            ...  \n",
       "3073                  -0.892759       3.628039  \n",
       "3074                  -0.113929       2.617600  \n",
       "3075                  -0.374747       2.814055  \n",
       "3076                  -0.642809       3.818883  \n",
       "3077                   0.683014       2.631873  \n",
       "\n",
       "[3078 rows x 4 columns]"
      ]
     },
     "execution_count": 174,
     "metadata": {},
     "output_type": "execute_result"
    }
   ],
   "source": [
    "num_1"
   ]
  },
  {
   "cell_type": "code",
   "execution_count": 175,
   "metadata": {},
   "outputs": [
    {
     "data": {
      "text/plain": [
       "<AxesSubplot:>"
      ]
     },
     "execution_count": 175,
     "metadata": {},
     "output_type": "execute_result"
    },
    {
     "data": {
      "image/png": "[encoded data removed]",
      "text/plain": [
       "<Figure size 432x288 with 2 Axes>"
      ]
     },
     "metadata": {
      "needs_background": "light"
     },
     "output_type": "display_data"
    }
   ],
   "source": [
    "sns.heatmap(num_1.corr(),vmin = -1,vmax = 1,center =0,cmap='coolwarm')"
   ]
  },
  {
   "cell_type": "markdown",
   "metadata": {},
   "source": [
    "# Run Dendrogram based hierarchial clustering"
   ]
  },
  {
   "cell_type": "code",
   "execution_count": 57,
   "metadata": {},
   "outputs": [
    {
     "data": {
      "image/png": "[encoded data removed]",
      "text/plain": [
       "<Figure size 1080x360 with 1 Axes>"
      ]
     },
     "metadata": {
      "needs_background": "light"
     },
     "output_type": "display_data"
    }
   ],
   "source": [
    "import scipy.cluster.hierarchy as shc\n",
    "\n",
    "plt.figure(figsize = (15,5))\n",
    "plt.title('Cluster Dendrogram')\n",
    "dend = shc.dendrogram(shc.linkage(num_1,method = 'centroid'))"
   ]
  },
  {
   "cell_type": "markdown",
   "metadata": {},
   "source": [
    "## looking the Dendrogram output we can see that we are being suggested that there will be 4 clusters.(Green,Red,Pink and Black)"
   ]
  },
  {
   "cell_type": "markdown",
   "metadata": {},
   "source": [
    "# Building The Cluster"
   ]
  },
  {
   "cell_type": "code",
   "execution_count": 176,
   "metadata": {},
   "outputs": [],
   "source": [
    "from sklearn.cluster import AgglomerativeClustering\n",
    "\n",
    "cluster =  AgglomerativeClustering(n_clusters=4,affinity = 'euclidean',linkage = 'complete')\n",
    "cluster_label = cluster.fit_predict(num_1)\n",
    "num_1['cluster_label']= pd.DataFrame(cluster_label)"
   ]
  },
  {
   "cell_type": "code",
   "execution_count": 177,
   "metadata": {},
   "outputs": [
    {
     "data": {
      "text/html": [
       "<div>\n",
       "<style scoped>\n",
       "    .dataframe tbody tr th:only-of-type {\n",
       "        vertical-align: middle;\n",
       "    }\n",
       "\n",
       "    .dataframe tbody tr th {\n",
       "        vertical-align: top;\n",
       "    }\n",
       "\n",
       "    .dataframe thead th {\n",
       "        text-align: right;\n",
       "    }\n",
       "</style>\n",
       "<table border=\"1\" class=\"dataframe\">\n",
       "  <thead>\n",
       "    <tr style=\"text-align: right;\">\n",
       "      <th></th>\n",
       "      <th>Months_on_book_std</th>\n",
       "      <th>Months_Inactive_12_mon_std</th>\n",
       "      <th>Avg_Utilization_Ratio_std</th>\n",
       "      <th>avg_spend_std</th>\n",
       "      <th>cluster_label</th>\n",
       "    </tr>\n",
       "  </thead>\n",
       "  <tbody>\n",
       "    <tr>\n",
       "      <th>0</th>\n",
       "      <td>-0.227121</td>\n",
       "      <td>1.737885</td>\n",
       "      <td>1.762509</td>\n",
       "      <td>-0.157105</td>\n",
       "      <td>0</td>\n",
       "    </tr>\n",
       "    <tr>\n",
       "      <th>1</th>\n",
       "      <td>0.023041</td>\n",
       "      <td>-1.395805</td>\n",
       "      <td>0.136021</td>\n",
       "      <td>-0.657095</td>\n",
       "      <td>0</td>\n",
       "    </tr>\n",
       "    <tr>\n",
       "      <th>2</th>\n",
       "      <td>-1.102689</td>\n",
       "      <td>-0.351242</td>\n",
       "      <td>-0.816688</td>\n",
       "      <td>-0.755874</td>\n",
       "      <td>0</td>\n",
       "    </tr>\n",
       "    <tr>\n",
       "      <th>3</th>\n",
       "      <td>0.023041</td>\n",
       "      <td>2.782448</td>\n",
       "      <td>-0.990566</td>\n",
       "      <td>0.692184</td>\n",
       "      <td>2</td>\n",
       "    </tr>\n",
       "    <tr>\n",
       "      <th>4</th>\n",
       "      <td>1.524015</td>\n",
       "      <td>-0.351242</td>\n",
       "      <td>0.020102</td>\n",
       "      <td>-0.324015</td>\n",
       "      <td>0</td>\n",
       "    </tr>\n",
       "  </tbody>\n",
       "</table>\n",
       "</div>"
      ],
      "text/plain": [
       "   Months_on_book_std  Months_Inactive_12_mon_std  Avg_Utilization_Ratio_std  \\\n",
       "0           -0.227121                    1.737885                   1.762509   \n",
       "1            0.023041                   -1.395805                   0.136021   \n",
       "2           -1.102689                   -0.351242                  -0.816688   \n",
       "3            0.023041                    2.782448                  -0.990566   \n",
       "4            1.524015                   -0.351242                   0.020102   \n",
       "\n",
       "   avg_spend_std  cluster_label  \n",
       "0      -0.157105              0  \n",
       "1      -0.657095              0  \n",
       "2      -0.755874              0  \n",
       "3       0.692184              2  \n",
       "4      -0.324015              0  "
      ]
     },
     "execution_count": 177,
     "metadata": {},
     "output_type": "execute_result"
    }
   ],
   "source": [
    "num_1.head()"
   ]
  },
  {
   "cell_type": "code",
   "execution_count": 178,
   "metadata": {},
   "outputs": [
    {
     "data": {
      "text/plain": [
       "0.33047847644088724"
      ]
     },
     "execution_count": 178,
     "metadata": {},
     "output_type": "execute_result"
    }
   ],
   "source": [
    "from sklearn.metrics import silhouette_score\n",
    "cluster_label = num_1['cluster_label']\n",
    "silhouette_avg = silhouette_score(num_1,cluster_label)\n",
    "silhouette_avg"
   ]
  },
  {
   "cell_type": "markdown",
   "metadata": {},
   "source": [
    "- silhouette_score tells us how far apart the clusters are"
   ]
  },
  {
   "cell_type": "markdown",
   "metadata": {},
   "source": [
    "## lets check how dense the clusters are .to that i use Davies_bouldin_score"
   ]
  },
  {
   "cell_type": "code",
   "execution_count": 179,
   "metadata": {},
   "outputs": [
    {
     "data": {
      "text/plain": [
       "1.0791354136144056"
      ]
     },
     "execution_count": 179,
     "metadata": {},
     "output_type": "execute_result"
    }
   ],
   "source": [
    "from sklearn.metrics import davies_bouldin_score\n",
    "davies_bouldin_score(num_1,cluster_label)"
   ]
  },
  {
   "cell_type": "code",
   "execution_count": 180,
   "metadata": {},
   "outputs": [],
   "source": [
    "num['cluster_label'] = num_1['cluster_label']"
   ]
  },
  {
   "cell_type": "code",
   "execution_count": 181,
   "metadata": {},
   "outputs": [
    {
     "data": {
      "text/plain": [
       "0    1790\n",
       "2     972\n",
       "1     304\n",
       "3      12\n",
       "Name: cluster_label, dtype: int64"
      ]
     },
     "execution_count": 181,
     "metadata": {},
     "output_type": "execute_result"
    }
   ],
   "source": [
    "num['cluster_label'].value_counts()"
   ]
  },
  {
   "cell_type": "code",
   "execution_count": 182,
   "metadata": {},
   "outputs": [
    {
     "data": {
      "text/html": [
       "<div>\n",
       "<style scoped>\n",
       "    .dataframe tbody tr th:only-of-type {\n",
       "        vertical-align: middle;\n",
       "    }\n",
       "\n",
       "    .dataframe tbody tr th {\n",
       "        vertical-align: top;\n",
       "    }\n",
       "\n",
       "    .dataframe thead tr th {\n",
       "        text-align: left;\n",
       "    }\n",
       "\n",
       "    .dataframe thead tr:last-of-type th {\n",
       "        text-align: right;\n",
       "    }\n",
       "</style>\n",
       "<table border=\"1\" class=\"dataframe\">\n",
       "  <thead>\n",
       "    <tr>\n",
       "      <th></th>\n",
       "      <th>Months_on_book</th>\n",
       "      <th>Total_Relationship_Count</th>\n",
       "      <th>Months_Inactive_12_mon</th>\n",
       "      <th>Credit_Limit</th>\n",
       "      <th>Total_Revolving_Bal</th>\n",
       "      <th>Avg_Utilization_Ratio</th>\n",
       "      <th>Total_Trans_Amt</th>\n",
       "      <th>Total_Trans_Ct</th>\n",
       "      <th>avg_spend</th>\n",
       "    </tr>\n",
       "    <tr>\n",
       "      <th></th>\n",
       "      <th>mean</th>\n",
       "      <th>mean</th>\n",
       "      <th>mean</th>\n",
       "      <th>mean</th>\n",
       "      <th>mean</th>\n",
       "      <th>mean</th>\n",
       "      <th>mean</th>\n",
       "      <th>mean</th>\n",
       "      <th>mean</th>\n",
       "    </tr>\n",
       "    <tr>\n",
       "      <th>cluster_label</th>\n",
       "      <th></th>\n",
       "      <th></th>\n",
       "      <th></th>\n",
       "      <th></th>\n",
       "      <th></th>\n",
       "      <th></th>\n",
       "      <th></th>\n",
       "      <th></th>\n",
       "      <th></th>\n",
       "    </tr>\n",
       "  </thead>\n",
       "  <tbody>\n",
       "    <tr>\n",
       "      <th>0</th>\n",
       "      <td>34.856983</td>\n",
       "      <td>3.973184</td>\n",
       "      <td>1.901676</td>\n",
       "      <td>7486.413687</td>\n",
       "      <td>1244.563128</td>\n",
       "      <td>0.331282</td>\n",
       "      <td>3449.227011</td>\n",
       "      <td>61.660335</td>\n",
       "      <td>54.480869</td>\n",
       "    </tr>\n",
       "    <tr>\n",
       "      <th>1</th>\n",
       "      <td>34.769737</td>\n",
       "      <td>2.368421</td>\n",
       "      <td>2.059211</td>\n",
       "      <td>14678.461513</td>\n",
       "      <td>1223.450658</td>\n",
       "      <td>0.150345</td>\n",
       "      <td>12586.728618</td>\n",
       "      <td>97.355263</td>\n",
       "      <td>128.686490</td>\n",
       "    </tr>\n",
       "    <tr>\n",
       "      <th>2</th>\n",
       "      <td>37.815844</td>\n",
       "      <td>3.782922</td>\n",
       "      <td>3.194444</td>\n",
       "      <td>8834.982819</td>\n",
       "      <td>975.652263</td>\n",
       "      <td>0.207031</td>\n",
       "      <td>3461.201070</td>\n",
       "      <td>59.217078</td>\n",
       "      <td>56.398911</td>\n",
       "    </tr>\n",
       "    <tr>\n",
       "      <th>3</th>\n",
       "      <td>43.333333</td>\n",
       "      <td>2.500000</td>\n",
       "      <td>4.666667</td>\n",
       "      <td>13057.166667</td>\n",
       "      <td>1130.083333</td>\n",
       "      <td>0.145583</td>\n",
       "      <td>11919.304167</td>\n",
       "      <td>92.833333</td>\n",
       "      <td>128.193255</td>\n",
       "    </tr>\n",
       "  </tbody>\n",
       "</table>\n",
       "</div>"
      ],
      "text/plain": [
       "              Months_on_book Total_Relationship_Count Months_Inactive_12_mon  \\\n",
       "                        mean                     mean                   mean   \n",
       "cluster_label                                                                  \n",
       "0                  34.856983                 3.973184               1.901676   \n",
       "1                  34.769737                 2.368421               2.059211   \n",
       "2                  37.815844                 3.782922               3.194444   \n",
       "3                  43.333333                 2.500000               4.666667   \n",
       "\n",
       "               Credit_Limit Total_Revolving_Bal Avg_Utilization_Ratio  \\\n",
       "                       mean                mean                  mean   \n",
       "cluster_label                                                           \n",
       "0               7486.413687         1244.563128              0.331282   \n",
       "1              14678.461513         1223.450658              0.150345   \n",
       "2               8834.982819          975.652263              0.207031   \n",
       "3              13057.166667         1130.083333              0.145583   \n",
       "\n",
       "              Total_Trans_Amt Total_Trans_Ct   avg_spend  \n",
       "                         mean           mean        mean  \n",
       "cluster_label                                             \n",
       "0                 3449.227011      61.660335   54.480869  \n",
       "1                12586.728618      97.355263  128.686490  \n",
       "2                 3461.201070      59.217078   56.398911  \n",
       "3                11919.304167      92.833333  128.193255  "
      ]
     },
     "execution_count": 182,
     "metadata": {},
     "output_type": "execute_result"
    }
   ],
   "source": [
    "num.groupby('cluster_label').agg(['mean'])"
   ]
  },
  {
   "cell_type": "code",
   "execution_count": 183,
   "metadata": {},
   "outputs": [],
   "source": [
    "# Joining the DataFrame Num and Char"
   ]
  },
  {
   "cell_type": "code",
   "execution_count": 184,
   "metadata": {},
   "outputs": [
    {
     "data": {
      "text/html": [
       "<div>\n",
       "<style scoped>\n",
       "    .dataframe tbody tr th:only-of-type {\n",
       "        vertical-align: middle;\n",
       "    }\n",
       "\n",
       "    .dataframe tbody tr th {\n",
       "        vertical-align: top;\n",
       "    }\n",
       "\n",
       "    .dataframe thead th {\n",
       "        text-align: right;\n",
       "    }\n",
       "</style>\n",
       "<table border=\"1\" class=\"dataframe\">\n",
       "  <thead>\n",
       "    <tr style=\"text-align: right;\">\n",
       "      <th></th>\n",
       "      <th>Months_on_book</th>\n",
       "      <th>Total_Relationship_Count</th>\n",
       "      <th>Months_Inactive_12_mon</th>\n",
       "      <th>Credit_Limit</th>\n",
       "      <th>Total_Revolving_Bal</th>\n",
       "      <th>Avg_Utilization_Ratio</th>\n",
       "      <th>Total_Trans_Amt</th>\n",
       "      <th>Total_Trans_Ct</th>\n",
       "      <th>avg_spend</th>\n",
       "      <th>cluster_label</th>\n",
       "      <th>Education_Level</th>\n",
       "      <th>Card_Category</th>\n",
       "    </tr>\n",
       "  </thead>\n",
       "  <tbody>\n",
       "    <tr>\n",
       "      <th>0</th>\n",
       "      <td>34</td>\n",
       "      <td>3</td>\n",
       "      <td>4</td>\n",
       "      <td>3313.0</td>\n",
       "      <td>2517</td>\n",
       "      <td>0.760</td>\n",
       "      <td>1171.0</td>\n",
       "      <td>20</td>\n",
       "      <td>58.550000</td>\n",
       "      <td>0</td>\n",
       "      <td>High School</td>\n",
       "      <td>Blue</td>\n",
       "    </tr>\n",
       "    <tr>\n",
       "      <th>1</th>\n",
       "      <td>36</td>\n",
       "      <td>3</td>\n",
       "      <td>1</td>\n",
       "      <td>4010.0</td>\n",
       "      <td>1247</td>\n",
       "      <td>0.311</td>\n",
       "      <td>1088.0</td>\n",
       "      <td>24</td>\n",
       "      <td>45.333333</td>\n",
       "      <td>0</td>\n",
       "      <td>Graduate</td>\n",
       "      <td>Blue</td>\n",
       "    </tr>\n",
       "    <tr>\n",
       "      <th>2</th>\n",
       "      <td>27</td>\n",
       "      <td>2</td>\n",
       "      <td>2</td>\n",
       "      <td>29081.0</td>\n",
       "      <td>1396</td>\n",
       "      <td>0.048</td>\n",
       "      <td>1538.0</td>\n",
       "      <td>36</td>\n",
       "      <td>42.722222</td>\n",
       "      <td>0</td>\n",
       "      <td>High School</td>\n",
       "      <td>Silver</td>\n",
       "    </tr>\n",
       "    <tr>\n",
       "      <th>3</th>\n",
       "      <td>36</td>\n",
       "      <td>3</td>\n",
       "      <td>5</td>\n",
       "      <td>11751.0</td>\n",
       "      <td>0</td>\n",
       "      <td>0.000</td>\n",
       "      <td>1539.0</td>\n",
       "      <td>19</td>\n",
       "      <td>81.000000</td>\n",
       "      <td>2</td>\n",
       "      <td>College</td>\n",
       "      <td>Blue</td>\n",
       "    </tr>\n",
       "    <tr>\n",
       "      <th>4</th>\n",
       "      <td>48</td>\n",
       "      <td>5</td>\n",
       "      <td>2</td>\n",
       "      <td>2436.0</td>\n",
       "      <td>680</td>\n",
       "      <td>0.279</td>\n",
       "      <td>1570.0</td>\n",
       "      <td>29</td>\n",
       "      <td>54.137931</td>\n",
       "      <td>0</td>\n",
       "      <td>Graduate</td>\n",
       "      <td>Blue</td>\n",
       "    </tr>\n",
       "  </tbody>\n",
       "</table>\n",
       "</div>"
      ],
      "text/plain": [
       "   Months_on_book  Total_Relationship_Count  Months_Inactive_12_mon  \\\n",
       "0              34                         3                       4   \n",
       "1              36                         3                       1   \n",
       "2              27                         2                       2   \n",
       "3              36                         3                       5   \n",
       "4              48                         5                       2   \n",
       "\n",
       "   Credit_Limit  Total_Revolving_Bal  Avg_Utilization_Ratio  Total_Trans_Amt  \\\n",
       "0        3313.0                 2517                  0.760           1171.0   \n",
       "1        4010.0                 1247                  0.311           1088.0   \n",
       "2       29081.0                 1396                  0.048           1538.0   \n",
       "3       11751.0                    0                  0.000           1539.0   \n",
       "4        2436.0                  680                  0.279           1570.0   \n",
       "\n",
       "   Total_Trans_Ct  avg_spend  cluster_label Education_Level Card_Category  \n",
       "0              20  58.550000              0     High School          Blue  \n",
       "1              24  45.333333              0        Graduate          Blue  \n",
       "2              36  42.722222              0     High School        Silver  \n",
       "3              19  81.000000              2         College          Blue  \n",
       "4              29  54.137931              0        Graduate          Blue  "
      ]
     },
     "execution_count": 184,
     "metadata": {},
     "output_type": "execute_result"
    }
   ],
   "source": [
    "data_all =  pd.concat([num,char],axis = 1,join ='inner')\n",
    "data_all.head()"
   ]
  },
  {
   "cell_type": "markdown",
   "metadata": {},
   "source": [
    "# Cluster Profiling"
   ]
  },
  {
   "cell_type": "code",
   "execution_count": 185,
   "metadata": {},
   "outputs": [
    {
     "data": {
      "text/html": [
       "<div>\n",
       "<style scoped>\n",
       "    .dataframe tbody tr th:only-of-type {\n",
       "        vertical-align: middle;\n",
       "    }\n",
       "\n",
       "    .dataframe tbody tr th {\n",
       "        vertical-align: top;\n",
       "    }\n",
       "\n",
       "    .dataframe thead th {\n",
       "        text-align: right;\n",
       "    }\n",
       "</style>\n",
       "<table border=\"1\" class=\"dataframe\">\n",
       "  <thead>\n",
       "    <tr style=\"text-align: right;\">\n",
       "      <th>Card_Category</th>\n",
       "      <th>Blue</th>\n",
       "      <th>Gold</th>\n",
       "      <th>Platinum</th>\n",
       "      <th>Silver</th>\n",
       "    </tr>\n",
       "    <tr>\n",
       "      <th>cluster_label</th>\n",
       "      <th></th>\n",
       "      <th></th>\n",
       "      <th></th>\n",
       "      <th></th>\n",
       "    </tr>\n",
       "  </thead>\n",
       "  <tbody>\n",
       "    <tr>\n",
       "      <th>0</th>\n",
       "      <td>1698.0</td>\n",
       "      <td>13.0</td>\n",
       "      <td>5.0</td>\n",
       "      <td>74.0</td>\n",
       "    </tr>\n",
       "    <tr>\n",
       "      <th>1</th>\n",
       "      <td>236.0</td>\n",
       "      <td>13.0</td>\n",
       "      <td>6.0</td>\n",
       "      <td>49.0</td>\n",
       "    </tr>\n",
       "    <tr>\n",
       "      <th>2</th>\n",
       "      <td>921.0</td>\n",
       "      <td>8.0</td>\n",
       "      <td>1.0</td>\n",
       "      <td>42.0</td>\n",
       "    </tr>\n",
       "    <tr>\n",
       "      <th>3</th>\n",
       "      <td>11.0</td>\n",
       "      <td>NaN</td>\n",
       "      <td>NaN</td>\n",
       "      <td>1.0</td>\n",
       "    </tr>\n",
       "  </tbody>\n",
       "</table>\n",
       "</div>"
      ],
      "text/plain": [
       "Card_Category    Blue  Gold  Platinum  Silver\n",
       "cluster_label                                \n",
       "0              1698.0  13.0       5.0    74.0\n",
       "1               236.0  13.0       6.0    49.0\n",
       "2               921.0   8.0       1.0    42.0\n",
       "3                11.0   NaN       NaN     1.0"
      ]
     },
     "execution_count": 185,
     "metadata": {},
     "output_type": "execute_result"
    }
   ],
   "source": [
    "pd.crosstab(index = data_all['cluster_label'],columns = data_all['Card_Category'],values = data_all['Card_Category'],aggfunc='count')"
   ]
  },
  {
   "cell_type": "code",
   "execution_count": 187,
   "metadata": {},
   "outputs": [
    {
     "data": {
      "text/html": [
       "<div>\n",
       "<style scoped>\n",
       "    .dataframe tbody tr th:only-of-type {\n",
       "        vertical-align: middle;\n",
       "    }\n",
       "\n",
       "    .dataframe tbody tr th {\n",
       "        vertical-align: top;\n",
       "    }\n",
       "\n",
       "    .dataframe thead th {\n",
       "        text-align: right;\n",
       "    }\n",
       "</style>\n",
       "<table border=\"1\" class=\"dataframe\">\n",
       "  <thead>\n",
       "    <tr style=\"text-align: right;\">\n",
       "      <th>Card_Category</th>\n",
       "      <th>Blue</th>\n",
       "      <th>Gold</th>\n",
       "      <th>Platinum</th>\n",
       "      <th>Silver</th>\n",
       "    </tr>\n",
       "    <tr>\n",
       "      <th>cluster_label</th>\n",
       "      <th></th>\n",
       "      <th></th>\n",
       "      <th></th>\n",
       "      <th></th>\n",
       "    </tr>\n",
       "  </thead>\n",
       "  <tbody>\n",
       "    <tr>\n",
       "      <th>0</th>\n",
       "      <td>3417.355919</td>\n",
       "      <td>4876.076923</td>\n",
       "      <td>3556.0</td>\n",
       "      <td>3922.662162</td>\n",
       "    </tr>\n",
       "    <tr>\n",
       "      <th>1</th>\n",
       "      <td>12577.512500</td>\n",
       "      <td>13609.538462</td>\n",
       "      <td>12449.5</td>\n",
       "      <td>12376.562245</td>\n",
       "    </tr>\n",
       "    <tr>\n",
       "      <th>2</th>\n",
       "      <td>3408.699620</td>\n",
       "      <td>5413.000000</td>\n",
       "      <td>5418.0</td>\n",
       "      <td>4194.121190</td>\n",
       "    </tr>\n",
       "    <tr>\n",
       "      <th>3</th>\n",
       "      <td>11643.422727</td>\n",
       "      <td>NaN</td>\n",
       "      <td>NaN</td>\n",
       "      <td>14954.000000</td>\n",
       "    </tr>\n",
       "  </tbody>\n",
       "</table>\n",
       "</div>"
      ],
      "text/plain": [
       "Card_Category          Blue          Gold  Platinum        Silver\n",
       "cluster_label                                                    \n",
       "0               3417.355919   4876.076923    3556.0   3922.662162\n",
       "1              12577.512500  13609.538462   12449.5  12376.562245\n",
       "2               3408.699620   5413.000000    5418.0   4194.121190\n",
       "3              11643.422727           NaN       NaN  14954.000000"
      ]
     },
     "execution_count": 187,
     "metadata": {},
     "output_type": "execute_result"
    }
   ],
   "source": [
    "pd.crosstab(index = data_all['cluster_label'],columns = data_all['Card_Category'],values = data_all['Total_Trans_Amt'],aggfunc='mean')"
   ]
  },
  {
   "cell_type": "code",
   "execution_count": 188,
   "metadata": {},
   "outputs": [
    {
     "data": {
      "text/html": [
       "<div>\n",
       "<style scoped>\n",
       "    .dataframe tbody tr th:only-of-type {\n",
       "        vertical-align: middle;\n",
       "    }\n",
       "\n",
       "    .dataframe tbody tr th {\n",
       "        vertical-align: top;\n",
       "    }\n",
       "\n",
       "    .dataframe thead th {\n",
       "        text-align: right;\n",
       "    }\n",
       "</style>\n",
       "<table border=\"1\" class=\"dataframe\">\n",
       "  <thead>\n",
       "    <tr style=\"text-align: right;\">\n",
       "      <th>Card_Category</th>\n",
       "      <th>Blue</th>\n",
       "      <th>Gold</th>\n",
       "      <th>Platinum</th>\n",
       "      <th>Silver</th>\n",
       "    </tr>\n",
       "    <tr>\n",
       "      <th>cluster_label</th>\n",
       "      <th></th>\n",
       "      <th></th>\n",
       "      <th></th>\n",
       "      <th></th>\n",
       "    </tr>\n",
       "  </thead>\n",
       "  <tbody>\n",
       "    <tr>\n",
       "      <th>0</th>\n",
       "      <td>61.466431</td>\n",
       "      <td>72.846154</td>\n",
       "      <td>54.800000</td>\n",
       "      <td>64.608108</td>\n",
       "    </tr>\n",
       "    <tr>\n",
       "      <th>1</th>\n",
       "      <td>96.588983</td>\n",
       "      <td>103.692308</td>\n",
       "      <td>106.666667</td>\n",
       "      <td>98.224490</td>\n",
       "    </tr>\n",
       "    <tr>\n",
       "      <th>2</th>\n",
       "      <td>58.814332</td>\n",
       "      <td>70.250000</td>\n",
       "      <td>65.000000</td>\n",
       "      <td>65.809524</td>\n",
       "    </tr>\n",
       "    <tr>\n",
       "      <th>3</th>\n",
       "      <td>92.636364</td>\n",
       "      <td>NaN</td>\n",
       "      <td>NaN</td>\n",
       "      <td>95.000000</td>\n",
       "    </tr>\n",
       "  </tbody>\n",
       "</table>\n",
       "</div>"
      ],
      "text/plain": [
       "Card_Category       Blue        Gold    Platinum     Silver\n",
       "cluster_label                                              \n",
       "0              61.466431   72.846154   54.800000  64.608108\n",
       "1              96.588983  103.692308  106.666667  98.224490\n",
       "2              58.814332   70.250000   65.000000  65.809524\n",
       "3              92.636364         NaN         NaN  95.000000"
      ]
     },
     "execution_count": 188,
     "metadata": {},
     "output_type": "execute_result"
    }
   ],
   "source": [
    "pd.crosstab(index = data_all['cluster_label'],columns = data_all['Card_Category'],values = data_all['Total_Trans_Ct'],aggfunc='mean')"
   ]
  },
  {
   "cell_type": "markdown",
   "metadata": {},
   "source": [
    "# Plotting the Cluster prfiles"
   ]
  },
  {
   "cell_type": "code",
   "execution_count": 192,
   "metadata": {},
   "outputs": [
    {
     "data": {
      "text/plain": [
       "<AxesSubplot:xlabel='cluster_label', ylabel='Avg_Utilization_Ratio'>"
      ]
     },
     "execution_count": 192,
     "metadata": {},
     "output_type": "execute_result"
    },
    {
     "data": {
      "image/png": "[encoded data removed]",
      "text/plain": [
       "<Figure size 432x288 with 1 Axes>"
      ]
     },
     "metadata": {
      "needs_background": "light"
     },
     "output_type": "display_data"
    }
   ],
   "source": [
    "from numpy import mean\n",
    "sns.barplot(x='cluster_label',y='Avg_Utilization_Ratio',data = data_all,estimator = mean)\n"
   ]
  },
  {
   "cell_type": "code",
   "execution_count": 193,
   "metadata": {},
   "outputs": [
    {
     "data": {
      "text/plain": [
       "<AxesSubplot:xlabel='cluster_label', ylabel='Months_on_book'>"
      ]
     },
     "execution_count": 193,
     "metadata": {},
     "output_type": "execute_result"
    },
    {
     "data": {
      "image/png": "[encoded data removed]",
      "text/plain": [
       "<Figure size 432x288 with 1 Axes>"
      ]
     },
     "metadata": {
      "needs_background": "light"
     },
     "output_type": "display_data"
    }
   ],
   "source": [
    "sns.barplot(x='cluster_label',y='Months_on_book',data = data_all,estimator = mean)"
   ]
  },
  {
   "cell_type": "code",
   "execution_count": 194,
   "metadata": {},
   "outputs": [
    {
     "data": {
      "text/plain": [
       "<AxesSubplot:xlabel='cluster_label', ylabel='Months_Inactive_12_mon'>"
      ]
     },
     "execution_count": 194,
     "metadata": {},
     "output_type": "execute_result"
    },
    {
     "data": {
      "image/png": "[encoded data removed]",
      "text/plain": [
       "<Figure size 432x288 with 1 Axes>"
      ]
     },
     "metadata": {
      "needs_background": "light"
     },
     "output_type": "display_data"
    }
   ],
   "source": [
    "sns.barplot(x='cluster_label',y='Months_Inactive_12_mon',data = data_all,estimator = mean)"
   ]
  },
  {
   "cell_type": "code",
   "execution_count": 195,
   "metadata": {},
   "outputs": [
    {
     "data": {
      "text/plain": [
       "<AxesSubplot:xlabel='cluster_label', ylabel='avg_spend'>"
      ]
     },
     "execution_count": 195,
     "metadata": {},
     "output_type": "execute_result"
    },
    {
     "data": {
      "image/png": "[encoded data removed]",
      "text/plain": [
       "<Figure size 432x288 with 1 Axes>"
      ]
     },
     "metadata": {
      "needs_background": "light"
     },
     "output_type": "display_data"
    }
   ],
   "source": [
    "sns.barplot(x='cluster_label',y='avg_spend',data = data_all,estimator = mean)"
   ]
  },
  {
   "cell_type": "markdown",
   "metadata": {},
   "source": [
    "# Provide the final output"
   ]
  },
  {
   "cell_type": "code",
   "execution_count": 197,
   "metadata": {},
   "outputs": [
    {
     "data": {
      "text/plain": [
       "(1790, 12)"
      ]
     },
     "execution_count": 197,
     "metadata": {},
     "output_type": "execute_result"
    }
   ],
   "source": [
    "data_cluster_0 = data_all.loc[data_all['cluster_label']==0]\n",
    "data_cluster_0.shape"
   ]
  },
  {
   "cell_type": "code",
   "execution_count": 198,
   "metadata": {},
   "outputs": [
    {
     "data": {
      "text/plain": [
       "(304, 12)"
      ]
     },
     "execution_count": 198,
     "metadata": {},
     "output_type": "execute_result"
    }
   ],
   "source": [
    "data_cluster_1 = data_all.loc[data_all['cluster_label']==1]\n",
    "data_cluster_1.shape"
   ]
  },
  {
   "cell_type": "code",
   "execution_count": 199,
   "metadata": {},
   "outputs": [
    {
     "data": {
      "text/plain": [
       "(972, 12)"
      ]
     },
     "execution_count": 199,
     "metadata": {},
     "output_type": "execute_result"
    }
   ],
   "source": [
    "data_cluster_2 = data_all.loc[data_all['cluster_label']==2]\n",
    "data_cluster_2.shape"
   ]
  },
  {
   "cell_type": "code",
   "execution_count": 200,
   "metadata": {},
   "outputs": [
    {
     "data": {
      "text/plain": [
       "(12, 12)"
      ]
     },
     "execution_count": 200,
     "metadata": {},
     "output_type": "execute_result"
    }
   ],
   "source": [
    "data_cluster_3 = data_all.loc[data_all['cluster_label']==3]\n",
    "data_cluster_3.shape"
   ]
  },
  {
   "cell_type": "code",
   "execution_count": 210,
   "metadata": {},
   "outputs": [],
   "source": [
    "data_cluster_0.to_csv('C:/Users/Vishwajeet Sangolkar/unsupervised Learnign/data_cluster_0.csv')"
   ]
  },
  {
   "cell_type": "code",
   "execution_count": 211,
   "metadata": {},
   "outputs": [],
   "source": [
    "data_cluster_1.to_csv('C:/Users/Vishwajeet Sangolkar/unsupervised Learnign/data_cluster_1.csv')"
   ]
  },
  {
   "cell_type": "code",
   "execution_count": 212,
   "metadata": {},
   "outputs": [],
   "source": [
    "data_cluster_2.to_csv('C:/Users/Vishwajeet Sangolkar/unsupervised Learnign/data_cluster_2.csv')"
   ]
  },
  {
   "cell_type": "code",
   "execution_count": 213,
   "metadata": {},
   "outputs": [],
   "source": [
    "data_cluster_3.to_csv('C:/Users/Vishwajeet Sangolkar/unsupervised Learnign/data_cluster_3.csv')"
   ]
  },
  {
   "cell_type": "code",
   "execution_count": null,
   "metadata": {},
   "outputs": [],
   "source": []
  },
  {
   "cell_type": "code",
   "execution_count": null,
   "metadata": {},
   "outputs": [],
   "source": []
  },
  {
   "cell_type": "code",
   "execution_count": null,
   "metadata": {},
   "outputs": [],
   "source": []
  },
  {
   "cell_type": "code",
   "execution_count": null,
   "metadata": {},
   "outputs": [],
   "source": []
  },
  {
   "cell_type": "code",
   "execution_count": null,
   "metadata": {},
   "outputs": [],
   "source": []
  },
  {
   "cell_type": "code",
   "execution_count": null,
   "metadata": {},
   "outputs": [],
   "source": []
  },
  {
   "cell_type": "code",
   "execution_count": null,
   "metadata": {},
   "outputs": [],
   "source": []
  },
  {
   "cell_type": "code",
   "execution_count": null,
   "metadata": {},
   "outputs": [],
   "source": []
  },
  {
   "cell_type": "code",
   "execution_count": null,
   "metadata": {},
   "outputs": [],
   "source": []
  },
  {
   "cell_type": "code",
   "execution_count": null,
   "metadata": {},
   "outputs": [],
   "source": []
  },
  {
   "cell_type": "code",
   "execution_count": null,
   "metadata": {},
   "outputs": [],
   "source": []
  }
 ],
 "metadata": {
  "kernelspec": {
   "display_name": "Python 3",
   "language": "python",
   "name": "python3"
  },
  "language_info": {
   "codemirror_mode": {
    "name": "ipython",
    "version": 3
   },
   "file_extension": ".py",
   "mimetype": "text/x-python",
   "name": "python",
   "nbconvert_exporter": "python",
   "pygments_lexer": "ipython3",
   "version": "3.8.5"
  }
 },
 "nbformat": 4,
 "nbformat_minor": 4
}
